{
  "nbformat": 4,
  "nbformat_minor": 0,
  "metadata": {
    "colab": {
      "name": "yolov4_darknet (soccer).ipynb",
      "provenance": [],
      "collapsed_sections": []
    },
    "kernelspec": {
      "name": "python3",
      "display_name": "Python 3"
    },
    "language_info": {
      "name": "python"
    },
    "accelerator": "GPU"
  },
  "cells": [
    {
      "cell_type": "markdown",
      "metadata": {
        "id": "-XHO_T3yYpGy"
      },
      "source": [
        "# Check GPU"
      ]
    },
    {
      "cell_type": "code",
      "metadata": {
        "colab": {
          "base_uri": "https://localhost:8080/"
        },
        "id": "TQp62nfUYuIc",
        "outputId": "1d1fc38e-34ac-4dc5-811a-103074376952"
      },
      "source": [
        "!nvidia-smi"
      ],
      "execution_count": 1,
      "outputs": [
        {
          "output_type": "stream",
          "text": [
            "Wed Jun 30 14:55:37 2021       \n",
            "+-----------------------------------------------------------------------------+\n",
            "| NVIDIA-SMI 465.27       Driver Version: 460.32.03    CUDA Version: 11.2     |\n",
            "|-------------------------------+----------------------+----------------------+\n",
            "| GPU  Name        Persistence-M| Bus-Id        Disp.A | Volatile Uncorr. ECC |\n",
            "| Fan  Temp  Perf  Pwr:Usage/Cap|         Memory-Usage | GPU-Util  Compute M. |\n",
            "|                               |                      |               MIG M. |\n",
            "|===============================+======================+======================|\n",
            "|   0  Tesla K80           Off  | 00000000:00:04.0 Off |                    0 |\n",
            "| N/A   34C    P8    29W / 149W |      0MiB / 11441MiB |      0%      Default |\n",
            "|                               |                      |                  N/A |\n",
            "+-------------------------------+----------------------+----------------------+\n",
            "                                                                               \n",
            "+-----------------------------------------------------------------------------+\n",
            "| Processes:                                                                  |\n",
            "|  GPU   GI   CI        PID   Type   Process name                  GPU Memory |\n",
            "|        ID   ID                                                   Usage      |\n",
            "|=============================================================================|\n",
            "|  No running processes found                                                 |\n",
            "+-----------------------------------------------------------------------------+\n"
          ],
          "name": "stdout"
        }
      ]
    },
    {
      "cell_type": "markdown",
      "metadata": {
        "id": "wgxHUDXywx9I"
      },
      "source": [
        "# Step 1:  \n",
        "Mount Google Drive to the Colab Notebook"
      ]
    },
    {
      "cell_type": "code",
      "metadata": {
        "colab": {
          "base_uri": "https://localhost:8080/"
        },
        "id": "FL0E7puXfDNQ",
        "outputId": "48bde767-0fe4-4d67-d07c-ca0610266a9f"
      },
      "source": [
        "from google.colab import drive\n",
        "drive.mount('/content/drive')"
      ],
      "execution_count": null,
      "outputs": [
        {
          "output_type": "stream",
          "text": [
            "Mounted at /content/drive\n"
          ],
          "name": "stdout"
        }
      ]
    },
    {
      "cell_type": "markdown",
      "metadata": {
        "id": "IFfVRj2Cxtw-"
      },
      "source": [
        "# Step 2:\n",
        "Make a Directory **yolov4** in Google Drive and another Directory **training** inside **yolov4**"
      ]
    },
    {
      "cell_type": "code",
      "metadata": {
        "colab": {
          "base_uri": "https://localhost:8080/"
        },
        "id": "mebA7m0xmVUh",
        "outputId": "73e0fd48-b550-4b1c-f749-36e689014013"
      },
      "source": [
        "#!pwd\n",
        "!cd drive/MyDrive && mkdir yolov4 && mkdir yolov4/training"
      ],
      "execution_count": null,
      "outputs": [
        {
          "output_type": "stream",
          "text": [
            "/bin/bash: line 0: cd: drive/MyDrive: No such file or directory\n"
          ],
          "name": "stdout"
        }
      ]
    },
    {
      "cell_type": "markdown",
      "metadata": {
        "id": "srqQAxSjyhe5"
      },
      "source": [
        "# Step 3:\n",
        "Navigate to **yolov4** Directory"
      ]
    },
    {
      "cell_type": "code",
      "metadata": {
        "colab": {
          "base_uri": "https://localhost:8080/"
        },
        "id": "DUFgzoNfm6cI",
        "outputId": "282eabd2-9503-4545-ed22-06f663b973d5"
      },
      "source": [
        "%cd drive/MyDrive/yolov4"
      ],
      "execution_count": null,
      "outputs": [
        {
          "output_type": "stream",
          "text": [
            "/content/drive/MyDrive/yolov4\n"
          ],
          "name": "stdout"
        }
      ]
    },
    {
      "cell_type": "markdown",
      "metadata": {
        "id": "P7QdL0m0yzd4"
      },
      "source": [
        "# Step 4:\n",
        "Clone the Darknet git repository from AlexeyAB into **yolov4** Directory on Drive"
      ]
    },
    {
      "cell_type": "code",
      "metadata": {
        "id": "I2dg81ZCnC-G"
      },
      "source": [
        "!git clone https://github.com/AlexeyAB/darknet"
      ],
      "execution_count": null,
      "outputs": []
    },
    {
      "cell_type": "markdown",
      "metadata": {
        "id": "0kdiDQEMzbTZ"
      },
      "source": [
        "# Step 5:\n",
        "Upload following files to the **yolov4** Directory on Drive :\n",
        "\n",
        "\n",
        "*   Labelled Dataset\n",
        "*   Custom cfg file\n",
        "*   obj.data and obj.names files\n",
        "*   train.txt and test.txt files"
      ]
    },
    {
      "cell_type": "markdown",
      "metadata": {
        "id": "DK-TXHr-HIuw"
      },
      "source": [
        "# Step 5(a) :\n",
        "Copy all the images and annotation txt files to a folder called **obj** and compress the directory. Upload **obj.zip** to **yolov4** directory on drive."
      ]
    },
    {
      "cell_type": "markdown",
      "metadata": {
        "id": "HnhsN2KBKxO5"
      },
      "source": [
        "# Step 5(b) :\n",
        "Download the *yolov4-custom.cfg* file from **darknet/cfg** directory.\n",
        "Make the following changes :\n",
        "\n",
        "\n",
        "*   batch = 64\n",
        "*   subdivisions = 16\n",
        "*   max_batches = num_classes*2000 (but not less than 6000)\n",
        "*   steps = 4800, 5400 (80% of max_batches, 90% of max_batches)\n",
        "*   filters = (num_classes + 5)x3 in 3 **[convolutional]** layers before each **[yolo]** layers.\n",
        "*   classes = 2 (num_classes) in each of 3 **[yolo]** layers.\n",
        "\n",
        "Then upload it to **yolov4** directory.\n"
      ]
    },
    {
      "cell_type": "markdown",
      "metadata": {
        "id": "rAuGmaTQOfWz"
      },
      "source": [
        "# Step 5(c) :\n",
        "\n",
        "\n",
        "*   Create obj.data, which contains following lines -\n",
        "\n",
        "\n",
        "1.   classes = 2\n",
        "2.   train = data/train.txt\n",
        "3.   valid = data/test.txt\n",
        "4.   names = data/obj.names\n",
        "5.   backup = /content/drive/MyDrive/yolov4/training\n",
        "\n",
        "*   Create obj.names, which contains following lines -\n",
        "\n",
        "\n",
        "1.   ball\n",
        "2.   player\n",
        "\n",
        "\n",
        "Then, upload them to **darknet** directory."
      ]
    },
    {
      "cell_type": "markdown",
      "metadata": {
        "id": "EiDriNPlPn8I"
      },
      "source": [
        "# Step 5(d) :\n",
        "Upload train.txt and test.txt to **yolov4** which were create during data pre-processing phase."
      ]
    },
    {
      "cell_type": "markdown",
      "metadata": {
        "id": "yjzLzJAu1dth"
      },
      "source": [
        "# Step 6:\n",
        "Make changes in the makefile to enable OPENCV and GPU."
      ]
    },
    {
      "cell_type": "code",
      "metadata": {
        "colab": {
          "base_uri": "https://localhost:8080/"
        },
        "id": "0bGEnlTvoDBC",
        "outputId": "290298a0-bb1a-4e29-a1d0-7df07d8bb205"
      },
      "source": [
        "%cd darknet/\n",
        "!sed -i 's/OPENCV=0/OPENCV=1/' Makefile\n",
        "!sed -i 's/GPU=0/GPU=1/' Makefile\n",
        "!sed -i 's/CUDNN=0/CUDNN=1/' Makefile\n",
        "!sed -i 's/CUDNN_HALF=0/CUDNN_HALF=1/' Makefile\n",
        "!sed -i 's/LIBSO=0/LIBSO=1/' Makefile"
      ],
      "execution_count": null,
      "outputs": [
        {
          "output_type": "stream",
          "text": [
            "/content/drive/MyDrive/yolov4/darknet\n"
          ],
          "name": "stdout"
        }
      ]
    },
    {
      "cell_type": "markdown",
      "metadata": {
        "id": "xiPYtQG21yLz"
      },
      "source": [
        "# Step 7:\n",
        "Run make command to build darknet"
      ]
    },
    {
      "cell_type": "code",
      "metadata": {
        "id": "vrYeCQzUp9fX"
      },
      "source": [
        "!make"
      ],
      "execution_count": null,
      "outputs": []
    },
    {
      "cell_type": "markdown",
      "metadata": {
        "id": "PB3fNFgy2DOB"
      },
      "source": [
        "# Step 8:\n",
        "Copy all the files from the **yolov4** folder to the **darknet** directory"
      ]
    },
    {
      "cell_type": "markdown",
      "metadata": {
        "id": "AycwoAA82Nxx"
      },
      "source": [
        "# Step 8(a):\n",
        "Unzip the **obj.zip** dataset and its contents so that they are now in **/darknet/data/** folder"
      ]
    },
    {
      "cell_type": "code",
      "metadata": {
        "id": "_8_ookNMqE6b"
      },
      "source": [
        "!unzip /content/drive/MyDrive/yolov4/obj.zip -d data/"
      ],
      "execution_count": null,
      "outputs": []
    },
    {
      "cell_type": "markdown",
      "metadata": {
        "id": "_wMM2f0f2c7Z"
      },
      "source": [
        "# Step 8(b):\n",
        "Copy **yolov4-custom.cfg** file so that it is now in **/darknet/cfg/** folder"
      ]
    },
    {
      "cell_type": "code",
      "metadata": {
        "id": "Or32TswgsDbb"
      },
      "source": [
        "%rm -rf cfg/\n",
        "%mkdir cfg\n",
        "!cp /content/drive/MyDrive/yolov4/yolov4-custom.cfg cfg"
      ],
      "execution_count": null,
      "outputs": []
    },
    {
      "cell_type": "markdown",
      "metadata": {
        "id": "5vld9bwe2oox"
      },
      "source": [
        "# Step 8(c):\n",
        "Copy the **obj.names, obj.data, train.txt, test.txt** files so that they are now in **/darknet/data/** folder"
      ]
    },
    {
      "cell_type": "code",
      "metadata": {
        "id": "zCTADdJWqcdY"
      },
      "source": [
        "!cp /content/drive/MyDrive/yolov4/obj.names data\n",
        "!cp /content/drive/MyDrive/yolov4/obj.data  data\n",
        "!cp /content/drive/MyDrive/yolov4/train.txt data\n",
        "!cp /content/drive/MyDrive/yolov4/test.txt  data\n",
        "\n",
        "!ls data/"
      ],
      "execution_count": null,
      "outputs": []
    },
    {
      "cell_type": "markdown",
      "metadata": {
        "id": "C4-1t44J285D"
      },
      "source": [
        "# Step 9:\n",
        "Download the pre-trained YOLOv4 weights"
      ]
    },
    {
      "cell_type": "code",
      "metadata": {
        "id": "rCnL2tl5rc9e"
      },
      "source": [
        "!wget https://github.com/AlexeyAB/darknet/releases/download/darknet_yolo_v3_optimal/yolov4.conv.137"
      ],
      "execution_count": null,
      "outputs": []
    },
    {
      "cell_type": "markdown",
      "metadata": {
        "id": "cunt4sPx3MO5"
      },
      "source": [
        "# Step 10:\n",
        "Train your custom detector"
      ]
    },
    {
      "cell_type": "code",
      "metadata": {
        "id": "d9I9sksdrl77"
      },
      "source": [
        "!./darknet detector train data/obj.data cfg/yolov4-custom.cfg yolov4.conv.137 -dont_show -map"
      ],
      "execution_count": null,
      "outputs": []
    },
    {
      "cell_type": "markdown",
      "metadata": {
        "id": "WCWQIQdV3Tq6"
      },
      "source": [
        "# Step 11:\n",
        "To Resume your training"
      ]
    },
    {
      "cell_type": "code",
      "metadata": {
        "id": "VYz3Zoa5tk85"
      },
      "source": [
        "!./darknet detector train data/obj.data cfg/yolov4-custom.cfg /content/drive/MyDrive/yolov4/training/yolov4-custom_last.weights -dont_show -map"
      ],
      "execution_count": null,
      "outputs": []
    },
    {
      "cell_type": "markdown",
      "metadata": {
        "id": "0Q5-kIyX3nka"
      },
      "source": [
        "# Step 12:\n",
        "Check the training chart"
      ]
    },
    {
      "cell_type": "code",
      "metadata": {
        "id": "g-pbDmpXt48A"
      },
      "source": [
        "def imShow(path):import cv2\n",
        "import matplotlib.pyplot as plt\n",
        "%matplotlib inline\n",
        "image = cv2.imread(path)\n",
        "height, width = image.shape[:2]\n",
        "resized_image = cv2.resize(image,(3*width, 3*height), interpolation = cv2.INTER_CUBIC)\n",
        "fig = plt.gcf()\n",
        "fig.set_size_inches(18, 10)\n",
        "plt.axis(“off”)\n",
        "plt.imshow(cv2.cvtColor(resized_image, cv2.COLOR_BGR2RGB))\n",
        "plt.show()\n",
        "\n",
        "imShow('chart.png')"
      ],
      "execution_count": null,
      "outputs": []
    },
    {
      "cell_type": "markdown",
      "metadata": {
        "id": "p0BsvcRM3xEj"
      },
      "source": [
        "# Step 13:\n",
        "Check mAP (mean average precision)\n",
        "xxxx means iteration no.(1000, 2000 etc.)"
      ]
    },
    {
      "cell_type": "code",
      "metadata": {
        "id": "Dwe28BdfvWsY"
      },
      "source": [
        "!./darknet detector map data/obj.data cfg/yolov4-custom.cfg /content/drive/MyDrive/yolov4/training/yolov4-custom_xxxx.weights -points 0"
      ],
      "execution_count": null,
      "outputs": []
    },
    {
      "cell_type": "markdown",
      "metadata": {
        "id": "dcMo4Jfb4ifB"
      },
      "source": [
        "# Step 14:\n",
        "Test your custom Object Detector"
      ]
    },
    {
      "cell_type": "markdown",
      "metadata": {
        "id": "euqceyB64p1x"
      },
      "source": [
        "# Step 14(a):\n",
        "Make changes to your custom config file to set it to test mode"
      ]
    },
    {
      "cell_type": "code",
      "metadata": {
        "id": "zFVM4dPr4wcw"
      },
      "source": [
        "%cd cfg\n",
        "!sed -i 's/batch=64/batch=1/' yolov4-custom.cfg\n",
        "!sed -i 's/subdivisions=16/subdivisions=1/' yolov4-custom.cfg\n",
        "%cd .."
      ],
      "execution_count": null,
      "outputs": []
    },
    {
      "cell_type": "markdown",
      "metadata": {
        "id": "YjIf4Xjl4zys"
      },
      "source": [
        "# Step 14(b):\n",
        "Run detector on an image"
      ]
    },
    {
      "cell_type": "code",
      "metadata": {
        "id": "uPB3PgSe4625"
      },
      "source": [
        "!./darknet detector test data/obj.data cfg/yolov4-custom.cfg /content/drive/MyDrive/yolov4/training/yolov4-custom_best.weights /content/drive/MyDrive/test_image1.jpg -thresh 0.3\n",
        "imShow('predictions.jpg')"
      ],
      "execution_count": null,
      "outputs": []
    },
    {
      "cell_type": "markdown",
      "metadata": {
        "id": "9OS5oG6j5PD8"
      },
      "source": [
        "# Step 14(c):\n",
        "Run detector on a video"
      ]
    },
    {
      "cell_type": "code",
      "metadata": {
        "id": "-X1e_OeB5f6w"
      },
      "source": [
        "!./darknet detector demo data/obj.data cfg/yolov4-custom.cfg /content/drive/MyDrive/yolov4/training/yolov4-custom_best.weights -dont_show /content/drive/MyDrive/test1.mp4 -thresh 0.5 -i 0 -out_filename /content/drive/MyDrive/results1.avi"
      ],
      "execution_count": null,
      "outputs": []
    }
  ]
}